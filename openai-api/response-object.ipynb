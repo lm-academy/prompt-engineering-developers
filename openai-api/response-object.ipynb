{
 "cells": [
  {
   "cell_type": "markdown",
   "id": "823c158f-0162-423a-8ee1-c0218127fc5c",
   "metadata": {},
   "source": [
    "# Handling the Response\n",
    "\n",
    "Hello and welcome back. In our last lectures, we made our first successful API call. That call returned a `response` object. Now, we need to understand what's inside that object and how to extract the information we need.\n",
    "\n",
    "An API is only useful if you can understand what it sends back. The OpenAI API provides a rich, structured response that contains not only the AI's generated text but also valuable metadata about the request.\n",
    "\n",
    "Let's make an API call and then dissect the response piece by piece."
   ]
  },
  {
   "cell_type": "markdown",
   "id": "13a357a0-ab17-4001-82ea-e4c41fbcc9d3",
   "metadata": {},
   "source": [
    "## Making a Call to Get a Response Object\n",
    "\n",
    "First, let's set up our environment and make a simple API call, just as we did before. This time, we will capture the entire response object in a variable so we can inspect it."
   ]
  },
  {
   "cell_type": "code",
   "execution_count": null,
   "id": "5c07f65f-ce44-4267-ad4e-f5674bdd6c0b",
   "metadata": {},
   "outputs": [],
   "source": [
    "import litellm\n",
    "from dotenv import load_dotenv\n",
    "\n",
    "load_dotenv()\n",
    "\n",
    "MODEL_NAME = \"openai/gpt-4o-mini\"\n",
    "MESSAGES = [\n",
    "    {\n",
    "        \"role\": \"user\",\n",
    "        \"content\": \"Write a short, 3-line poem about Python programming.\"\n",
    "    }\n",
    "]"
   ]
  },
  {
   "cell_type": "code",
   "execution_count": null,
   "id": "61f4c9af-80fa-4774-bbb8-dfbe05792a03",
   "metadata": {},
   "outputs": [],
   "source": []
  },
  {
   "cell_type": "markdown",
   "id": "a89bbbe9-356e-47c4-8908-98710373b64c",
   "metadata": {},
   "source": [
    "## Dissecting the Response Object\n",
    "\n",
    "The `response` object is not just a simple string. It's a structured object (a Pydantic model) that contains a wealth of useful information. Let's print out some of the top-level attributes."
   ]
  },
  {
   "cell_type": "code",
   "execution_count": null,
   "id": "a3501233-a184-4ea6-bcac-5b411b2cb5b2",
   "metadata": {},
   "outputs": [],
   "source": []
  },
  {
   "cell_type": "markdown",
   "id": "14923da8-5aee-4ff7-a9ab-648c57768ada",
   "metadata": {},
   "source": [
    "## Getting the Content via `choices[0].message.content`\n",
    "\n",
    "The most important part of the response is the AI's actual message. This is located inside a list called `choices`. With the default settings, this list will always have one item.\n",
    "\n",
    "Let's follow the path to the content: **`response.choices[0].message.content`**"
   ]
  },
  {
   "cell_type": "code",
   "execution_count": null,
   "id": "5aa610cc-9994-4e6e-82fb-9636280df529",
   "metadata": {},
   "outputs": [],
   "source": []
  },
  {
   "cell_type": "markdown",
   "id": "e2f422c4-4f7d-4240-8008-b2dc0a5f42fa",
   "metadata": {},
   "source": [
    "## Handling Multiple Choices (n > 1)\n",
    "\n",
    "Now we can answer the question: why is `choices` a list? Because you can ask the model to generate multiple different completions for the same prompt by setting the parameter `n`. This is perfect for brainstorming, generating alternative phrasings, or creating variations for A/B testing.\n",
    "\n",
    "Let's ask the model for **three** different poems for the same prompt.\n",
    "\n",
    "> Cost Warning: Setting `n=3` will generate three separate completions. Your `completion_tokens` in the usage object will be roughly three times higher, and you will be billed accordingly.\n",
    ">"
   ]
  },
  {
   "cell_type": "code",
   "execution_count": null,
   "id": "5ab118cc-8c59-4a51-a966-9e9cf860a58f",
   "metadata": {},
   "outputs": [],
   "source": []
  }
 ],
 "metadata": {
  "kernelspec": {
   "display_name": "Python 3 (ipykernel)",
   "language": "python",
   "name": "python3"
  },
  "language_info": {
   "codemirror_mode": {
    "name": "ipython",
    "version": 3
   },
   "file_extension": ".py",
   "mimetype": "text/x-python",
   "name": "python",
   "nbconvert_exporter": "python",
   "pygments_lexer": "ipython3",
   "version": "3.13.3"
  }
 },
 "nbformat": 4,
 "nbformat_minor": 5
}
