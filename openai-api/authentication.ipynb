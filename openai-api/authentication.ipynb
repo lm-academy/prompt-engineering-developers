{
 "cells": [
  {
   "cell_type": "markdown",
   "id": "98fb2814-6607-4632-ae86-a3f907f3d6c4",
   "metadata": {},
   "source": [
    "# Setup & Secure Authentication\n",
    "\n",
    "Hello, and welcome to our first hands-on section! Before we can start making API calls, we must cover the single most important step: **securely setting up our environment.**\n",
    "\n",
    "Getting this wrong isn't just a bug; it's a potentially serious and expensive security risk. This notebook will walk you through the professional, secure way to handle your API keys."
   ]
  },
  {
   "cell_type": "markdown",
   "id": "89e51c30-9eb7-46ed-8f28-f5b8f75a2109",
   "metadata": {},
   "source": [
    "## Installing the Necessary Libraries\n",
    "\n",
    "First, we need two Python libraries:\n",
    "\n",
    "1. **`openai`**: The official library for interacting with the OpenAI API.\n",
    "2. **`python-dotenv`**: A helper library that makes it easy to manage environment variables for local development.\n",
    "\n",
    "This should already be installed from when you ran `pip install -r requirements.txt` in the previous lectures."
   ]
  },
  {
   "cell_type": "code",
   "execution_count": null,
   "id": "d051127f-f10f-4c10-aa0c-3720624f1fe0",
   "metadata": {},
   "outputs": [],
   "source": []
  },
  {
   "cell_type": "markdown",
   "id": "66c2ab44-e3b0-4cfe-a26c-4181e2b7c140",
   "metadata": {},
   "source": [
    "## Loading the API key securely\n",
    "\n",
    "Now, we can use our libraries to securely load the key from the `.env` file into our application's environment *at runtime*. The `openai` library is smart and will automatically look for the `OPENAI_API_KEY` environment variable, so we often don't even need to pass the key manually."
   ]
  },
  {
   "cell_type": "code",
   "execution_count": null,
   "id": "bb2fcb92-8f18-4c1a-a92d-44246fb6f3bf",
   "metadata": {},
   "outputs": [],
   "source": []
  }
 ],
 "metadata": {
  "kernelspec": {
   "display_name": "Python 3 (ipykernel)",
   "language": "python",
   "name": "python3"
  },
  "language_info": {
   "codemirror_mode": {
    "name": "ipython",
    "version": 3
   },
   "file_extension": ".py",
   "mimetype": "text/x-python",
   "name": "python",
   "nbconvert_exporter": "python",
   "pygments_lexer": "ipython3",
   "version": "3.13.3"
  }
 },
 "nbformat": 4,
 "nbformat_minor": 5
}
