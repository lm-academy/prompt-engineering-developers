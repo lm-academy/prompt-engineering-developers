{
 "cells": [
  {
   "cell_type": "markdown",
   "id": "31eefec2-6bec-4956-aef5-029077bd77af",
   "metadata": {},
   "source": [
    "# Your First API Call - `client.chat.completions.create()`\n",
    "\n",
    "With our environment securely configured, it's time to make our first live API call. This is the moment where the theory becomes practice.\n",
    "\n",
    "The workhorse function for nearly all chat-based interactions is `client.chat.completions.create()`. This name tells us exactly what it does: using our authenticated `client`, we are asking to `create` a `completion` for a `chat`.\n",
    "\n",
    "> Note: While we are focusing on the `chat.completions` endpoint, the OpenAI platform offers other powerful tools like `embeddings` for text-to-vector conversion (used in RAG), `images` for DALL-E image generation, and `audio` for speech-to-text. To keep it focused, we will be focusing exclusively on chat in this course.\n",
    "> \n",
    "\n",
    "For this first call, we only need to provide the two most important, required parameters: `model` and `messages`. Let's see how they work."
   ]
  },
  {
   "cell_type": "markdown",
   "id": "2fd4447e-9347-4804-a608-4c1944b21bd2",
   "metadata": {},
   "source": [
    "## Secure Setup and Imports\n",
    "\n",
    "First, let's repeat our secure setup process. We'll import the necessary libraries and load our API key from the `.env` file. This should be the standard starting point for all your projects."
   ]
  },
  {
   "cell_type": "code",
   "execution_count": null,
   "id": "e7d417f7-b79b-45ab-9b00-ececda1883ba",
   "metadata": {},
   "outputs": [],
   "source": []
  },
  {
   "cell_type": "markdown",
   "id": "c84e068d-31a7-4b89-9710-5287eed551c1",
   "metadata": {},
   "source": [
    "## Making the API Call\n",
    "\n",
    "Now for the main event. We will construct our first API call, providing the two essential arguments.\n",
    "\n",
    "- **`model`**: We'll use `\"gpt-4o-mini\"`, which is a fantastic and cost-effective model for a wide range of tasks.\n",
    "- **`messages`**: This must be a list of dictionaries. For a simple, single-turn request, we'll have just one dictionary in our list with the `role` set to `\"user\"`.\n",
    "\n",
    "Let's ask a simple question and see the response."
   ]
  },
  {
   "cell_type": "code",
   "execution_count": null,
   "id": "3368af41-5a38-47a4-a306-1906b2256d04",
   "metadata": {},
   "outputs": [],
   "source": []
  },
  {
   "cell_type": "code",
   "execution_count": null,
   "id": "8a5f19df-175f-4a16-876c-22522b33afb6",
   "metadata": {},
   "outputs": [],
   "source": []
  }
 ],
 "metadata": {
  "kernelspec": {
   "display_name": "Python 3 (ipykernel)",
   "language": "python",
   "name": "python3"
  },
  "language_info": {
   "codemirror_mode": {
    "name": "ipython",
    "version": 3
   },
   "file_extension": ".py",
   "mimetype": "text/x-python",
   "name": "python",
   "nbconvert_exporter": "python",
   "pygments_lexer": "ipython3",
   "version": "3.13.3"
  }
 },
 "nbformat": 4,
 "nbformat_minor": 5
}
