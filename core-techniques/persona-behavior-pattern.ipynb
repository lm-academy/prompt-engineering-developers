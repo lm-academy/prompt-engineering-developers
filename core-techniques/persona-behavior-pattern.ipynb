{
 "cells": [
  {
   "cell_type": "markdown",
   "id": "d792b9f7-75cb-4143-a05a-d50037212e53",
   "metadata": {},
   "source": [
    "# Expert AI Development: Combining Persona Patterns and Behavioral Rules\n",
    "\n",
    "Hello and welcome to an exploration of two powerful techniques that can dramatically improve your LLM interactions: **the Persona Pattern** and **Behavioral Rules**. While individually effective, these techniques become even more powerful when combined.\n",
    "\n",
    "Think of it this way: **Persona Patterns** tell the AI *who* to be (a senior architect, security expert, or UX designer), while **Behavioral Rules** define *how* it should behave (formal vs. casual, detailed vs. concise, what to include or exclude). Together, they transform a generic AI assistant into a specialized expert perfectly tailored for your software development needs.\n",
    "\n",
    "Modern LLMs are quite capable at providing general improvements and suggestions. However, the real power of these techniques becomes apparent when dealing with complex, multi-faceted technical decisions where domain expertise and pattern recognition make the difference between surface-level feedback and truly actionable insights."
   ]
  },
  {
   "cell_type": "markdown",
   "id": "694244d6-8044-4e7e-9389-99e6e495e0df",
   "metadata": {},
   "source": [
    "## The Task and Helper Functions"
   ]
  },
  {
   "cell_type": "code",
   "execution_count": null,
   "id": "d1ed142b-5ce2-44d6-b905-1a721ad45d44",
   "metadata": {},
   "outputs": [],
   "source": [
    "import litellm\n",
    "from IPython.display import display, Markdown\n",
    "from textwrap import dedent\n",
    "from dotenv import load_dotenv\n",
    "\n",
    "load_dotenv()\n",
    "\n",
    "# --- Configuration & Context ---\n",
    "MODEL_NAME = \"openai/gpt-4o-mini\"\n",
    "MAX_TOKENS_DEFAULT = 500\n",
    "\n",
    "def get_completion(\n",
    "    prompt,\n",
    "    model=MODEL_NAME,\n",
    "    max_tokens=MAX_TOKENS_DEFAULT,\n",
    "    **kwargs\n",
    "):\n",
    "    parsed_messages = []\n",
    "    if type(prompt) is str:\n",
    "        parsed_messages = [\n",
    "            {\n",
    "                \"role\": \"user\",\n",
    "                \"content\": prompt\n",
    "            }\n",
    "        ]\n",
    "    else:\n",
    "        parsed_messages = prompt\n",
    "        \n",
    "    response = litellm.completion(\n",
    "        model=model,\n",
    "        messages=parsed_messages,\n",
    "        max_tokens=max_tokens,\n",
    "        **kwargs\n",
    "    )\n",
    "    return response.choices[0].message.content\n",
    "\n",
    "print(\"Setup complete. Helper functions and code context are ready.\")"
   ]
  },
  {
   "cell_type": "markdown",
   "id": "6d2036d4-cf97-432e-95b7-294884f70977",
   "metadata": {},
   "source": [
    "## The Generic Assistant (No Persona)\n",
    "\n",
    "Let's demonstrate with a realistic scenario where persona makes a dramatic difference: reviewing an implementation plan for a new microservice. This is exactly the type of complex, multi-faceted task where domain expertise becomes critical."
   ]
  },
  {
   "cell_type": "code",
   "execution_count": null,
   "id": "43ee4493-26d9-4a30-bd27-5498636761c7",
   "metadata": {},
   "outputs": [],
   "source": [
    "implementation_plan = \"\"\"\n",
    "Implementation Plan: Real-time Notification Service\n",
    "\n",
    "Architecture:\n",
    "- Single Node.js application with Express framework\n",
    "- MongoDB for storing notification preferences and history\n",
    "- WebSocket connections for real-time delivery\n",
    "- Redis for session management\n",
    "- Docker container deployment on single EC2 instance\n",
    "\n",
    "Timeline: 2 weeks\n",
    "Team: 2 junior developers\n",
    "\n",
    "Technical Details:\n",
    "- Use Socket.io for WebSocket management\n",
    "- Store all user connections in memory\n",
    "- Batch notifications every 500ms for efficiency\n",
    "- Use MongoDB GridFS for storing large notification payloads\n",
    "- Implement retry logic with exponential backoff\n",
    "- Deploy using docker-compose on t3.medium EC2 instance\n",
    "\n",
    "Expected Load: 50,000 concurrent users, 1M notifications/day\n",
    "\"\"\""
   ]
  },
  {
   "cell_type": "code",
   "execution_count": null,
   "id": "a04c58c9-e755-4454-a17d-bc5132de185a",
   "metadata": {},
   "outputs": [],
   "source": []
  },
  {
   "cell_type": "markdown",
   "id": "caa2f8bb-cd66-4b6b-b67e-f19bebf7e4e6",
   "metadata": {},
   "source": [
    "## Step 1: Adding Expert Persona\n",
    "\n",
    "Now let's see what happens when we bring in a **Senior Cloud Architect** persona. This expert should immediately spot the critical scalability and reliability issues that a generic response might miss or treat superficially."
   ]
  },
  {
   "cell_type": "code",
   "execution_count": null,
   "id": "49de6e4a-4197-4f0a-bfa1-53551d2238e6",
   "metadata": {},
   "outputs": [],
   "source": []
  },
  {
   "cell_type": "markdown",
   "id": "97e48cbb-4417-4897-958b-84679395163d",
   "metadata": {},
   "source": [
    "## Step 2: Adding Behavioral Rules\n",
    "\n",
    "Excellent! The expert persona immediately identified critical architectural flaws. Now let's add behavioral rules to make the architect's feedback even more structured and actionable."
   ]
  },
  {
   "cell_type": "code",
   "execution_count": null,
   "id": "4aec86b1-f8d8-46c5-bdd2-507bba6f8f6a",
   "metadata": {},
   "outputs": [],
   "source": []
  },
  {
   "cell_type": "markdown",
   "id": "c7b0258d-66ba-43b1-b385-24a4beca6e18",
   "metadata": {},
   "source": [
    "## Database Migration Expert Example\n",
    "\n",
    "Let's try another scenario where expertise really matters - reviewing a database migration strategy. This demonstrates how different expert personas bring unique pattern recognition to complex technical decisions."
   ]
  },
  {
   "cell_type": "code",
   "execution_count": null,
   "id": "66033658-1431-475b-91f2-df5e73b8dcb8",
   "metadata": {},
   "outputs": [],
   "source": [
    "migration_plan = \"\"\"\n",
    "Database Migration Plan: MySQL to PostgreSQL\n",
    "\n",
    "Current State:\n",
    "- MySQL 5.7 with 500GB database\n",
    "- 50+ microservices connecting directly\n",
    "- Peak: 10,000 QPS, 24/7 operation\n",
    "- Critical financial data (payments, transactions)\n",
    "\n",
    "Migration Strategy:\n",
    "1. Set up PostgreSQL instance\n",
    "2. Schedule 4-hour maintenance window on Sunday\n",
    "3. Use mysqldump to export data\n",
    "4. Import into PostgreSQL using psql\n",
    "5. Update all microservice connection strings\n",
    "6. Deploy all services simultaneously\n",
    "7. Test in production\n",
    "\n",
    "Rollback Plan: Restore from MySQL backup if issues arise\n",
    "Timeline: Single weekend\n",
    "\"\"\""
   ]
  },
  {
   "cell_type": "code",
   "execution_count": null,
   "id": "71b5e54f-d20f-468c-9589-bca3ca529e00",
   "metadata": {},
   "outputs": [],
   "source": []
  }
 ],
 "metadata": {
  "kernelspec": {
   "display_name": "Python 3 (ipykernel)",
   "language": "python",
   "name": "python3"
  },
  "language_info": {
   "codemirror_mode": {
    "name": "ipython",
    "version": 3
   },
   "file_extension": ".py",
   "mimetype": "text/x-python",
   "name": "python",
   "nbconvert_exporter": "python",
   "pygments_lexer": "ipython3",
   "version": "3.13.3"
  }
 },
 "nbformat": 4,
 "nbformat_minor": 5
}
