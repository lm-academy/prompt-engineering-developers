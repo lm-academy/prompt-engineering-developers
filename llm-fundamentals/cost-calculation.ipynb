{
 "cells": [
  {
   "cell_type": "markdown",
   "id": "38054cff-c78b-4e49-b85d-1f777981911d",
   "metadata": {},
   "source": [
    "## How Cost is Calculated\n",
    "\n",
    "Welcome! This notebook provides the practical demonstration for our lecture on cost calculation. We've discussed the theory: API usage is priced on a **pay-per-token** basis, and the cost is a function of both the **input tokens** you send and the **output tokens** you receive.\n",
    "\n",
    "The formula is:\n",
    "`Total Cost = (Input Tokens × Price per Input Token) + (Output Tokens × Price per Output Token)`\n",
    "\n",
    "Now, let's see how to apply this in practice. The most accurate way to calculate the cost of a specific API call is to use the `usage` object that is returned in the API's response. This object gives you the precise token counts, taking all guesswork out of the equation."
   ]
  },
  {
   "cell_type": "markdown",
   "id": "f0b029c5-5411-4038-ab3a-081cded4bf53",
   "metadata": {},
   "source": [
    "## Defining the Pricing Structure\n",
    "\n",
    "First, let's define the pricing for the model we're using, `gpt-4o-mini`. It's a best practice to define these values as constants in your application so you can easily update them if prices change.\n",
    "\n",
    "> Note: The following prices are for gpt-4o-mini as of August 2025. Always check the official OpenAI pricing page for the most current rates. Prices are typically listed per 1 million tokens.\n",
    ">"
   ]
  },
  {
   "cell_type": "code",
   "execution_count": null,
   "id": "b54ae234-2899-466f-b92b-3d175199940d",
   "metadata": {},
   "outputs": [],
   "source": [
    "import litellm\n",
    "from textwrap import dedent\n",
    "from dotenv import load_dotenv\n",
    "\n",
    "load_dotenv()\n",
    "\n",
    "print(\"Libraries and environment variables loaded successfully.\")"
   ]
  },
  {
   "cell_type": "code",
   "execution_count": null,
   "id": "0b52e292-55e9-4ff5-898c-2cae2725f2ff",
   "metadata": {},
   "outputs": [],
   "source": []
  },
  {
   "cell_type": "markdown",
   "id": "1651bd2a-b878-4377-a72e-915530750f57",
   "metadata": {},
   "source": [
    "## Calculating Cost from API Response\n",
    "\n",
    "Now, we'll make a simple, low-cost API call. Our calculation logic will pull the correct prices from the dictionary we just defined. We'll then inspect the `usage` attribute from the API response to get the exact token counts for our transaction.\n",
    "\n",
    "This is the ideal method for logging, auditing, and managing costs in a production application, as it's both accurate and scalable."
   ]
  },
  {
   "cell_type": "code",
   "execution_count": null,
   "id": "ce233fbc-d91e-49a6-86e9-ecf4c78ae791",
   "metadata": {},
   "outputs": [],
   "source": []
  },
  {
   "cell_type": "markdown",
   "id": "5d38200c",
   "metadata": {},
   "source": [
    "## Conversation Cost Analysis\n",
    "\n",
    "Now let's explore how costs accumulate during a multi-turn conversation. Each API call includes the entire conversation history, which means the input token count (and therefore cost) increases with each exchange.\n",
    "\n",
    "We'll simulate a 4-round conversation to demonstrate this cost escalation pattern."
   ]
  },
  {
   "cell_type": "code",
   "execution_count": null,
   "id": "547e2f17-1444-4e4d-a9ba-a6acc7858fe8",
   "metadata": {},
   "outputs": [],
   "source": []
  }
 ],
 "metadata": {
  "kernelspec": {
   "display_name": "Python 3 (ipykernel)",
   "language": "python",
   "name": "python3"
  },
  "language_info": {
   "codemirror_mode": {
    "name": "ipython",
    "version": 3
   },
   "file_extension": ".py",
   "mimetype": "text/x-python",
   "name": "python",
   "nbconvert_exporter": "python",
   "pygments_lexer": "ipython3",
   "version": "3.13.3"
  }
 },
 "nbformat": 4,
 "nbformat_minor": 5
}
