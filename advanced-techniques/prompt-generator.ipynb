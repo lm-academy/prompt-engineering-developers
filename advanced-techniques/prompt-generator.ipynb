{
 "cells": [
  {
   "cell_type": "markdown",
   "id": "3f2dc644-5004-4c39-8f5a-e99ab8374b30",
   "metadata": {},
   "source": [
    "# The Prompt Generator Pattern - AI as a Prompt Engineer\n",
    "\n",
    "Hello everyone. Today, we're exploring a fascinating \"meta\" technique where we use an AI to help us do our job as prompt engineers. So far, we have been carefully crafting prompts. But what if we could use the AI itself to build better prompts for us?\n",
    "\n",
    "This is the **Prompt Generator Pattern**. The core idea is to use a powerful, state-of-the-art model to act as your expert prompt engineering partner. Its task is not to solve the final problem, but to **generate a high-quality, optimized prompt** that you can then use for your actual task.\n",
    "\n",
    "This is especially useful when you want to use a cheaper, faster model for a repetitive production task but need the prompt to be perfectly optimized for reliability."
   ]
  },
  {
   "cell_type": "markdown",
   "id": "5140986c-5e0b-45ea-b3d8-cd588aae8add",
   "metadata": {},
   "source": [
    "## Helper Functions\n",
    "\n",
    "First, let's set up our standard helper functions."
   ]
  },
  {
   "cell_type": "code",
   "execution_count": 2,
   "id": "81c2c006-474f-4848-bc89-4de326788c41",
   "metadata": {},
   "outputs": [
    {
     "name": "stdout",
     "output_type": "stream",
     "text": [
      "Setup complete. Helper functions and code context are ready.\n"
     ]
    }
   ],
   "source": [
    "import litellm\n",
    "from IPython.display import display, Markdown\n",
    "from textwrap import dedent\n",
    "from dotenv import load_dotenv\n",
    "\n",
    "load_dotenv()\n",
    "\n",
    "MODEL_NAME = \"openai/gpt-4o-mini\"\n",
    "MAX_TOKENS_DEFAULT = 500\n",
    "\n",
    "def get_completion(\n",
    "    prompt,\n",
    "    model=MODEL_NAME,\n",
    "    max_tokens=MAX_TOKENS_DEFAULT,\n",
    "    **kwargs\n",
    "):\n",
    "    if \"gpt-5\" in model:\n",
    "        kwargs[\"max_completion_tokens\"] = max_tokens\n",
    "    else:\n",
    "        kwargs[\"max_tokens\"] = max_tokens\n",
    "        \n",
    "    parsed_messages = []\n",
    "\n",
    "    if type(prompt) is str:\n",
    "        parsed_messages = [\n",
    "            {\n",
    "                \"role\": \"user\",\n",
    "                \"content\": prompt\n",
    "            }\n",
    "        ]\n",
    "    else:\n",
    "        parsed_messages = prompt\n",
    "\n",
    "    response = litellm.completion(\n",
    "        model=model,\n",
    "        messages=parsed_messages,\n",
    "        **kwargs\n",
    "    )\n",
    "\n",
    "    return response.choices[0].message.content\n",
    "\n",
    "print(\"Setup complete. Helper functions and code context are ready.\")"
   ]
  },
  {
   "cell_type": "markdown",
   "id": "b4bdf193-7dfc-48c6-9add-7fdfdd51f154",
   "metadata": {},
   "source": [
    "## The Master Prompt (Generating a Prompt)\n",
    "\n",
    "Our first step is to craft a \"master prompt.\" This prompt doesn't solve the final task; it *describes the prompt we want*. We will go ahead and implement a conversation flow to interactively craft our prompt. (You can also just do this exercise in ChatGPT, Claude Desktop, or any other AI application)."
   ]
  },
  {
   "cell_type": "code",
   "execution_count": 12,
   "id": "c2c14e94-dec4-4000-8b35-ebfb16150d45",
   "metadata": {},
   "outputs": [],
   "source": [
    "master_prompt = [\n",
    "    {\n",
    "        \"role\": \"system\",\n",
    "        \"content\": dedent(\"\"\"\n",
    "        You are an expert prompt engineer, and your task is to create a high-quality,\n",
    "        optimized system prompt based on a user's specification.\n",
    "\n",
    "        ## Process:\n",
    "\n",
    "        1. Start by asking me to provide the task I want you to generate a prompt for.\n",
    "        2. Once I provide the task, ask me questions to clarify any doubts or missing information.\n",
    "        3. Once you have the necessary information, create a detailed and effective system prompt that\n",
    "            I can use with an AI system to tackle the task at hand.\n",
    "        4. When I write \"GENERATE\", you will generate the final prompt based on the information\n",
    "            we have discussed.\n",
    "\n",
    "        ## Generated prompt output rules:\n",
    "        * Output only the text of the generated prompt between <prompt>[GENERATED PROMPT]</prompt>\n",
    "        * Do not output any triple backticks nor code blocks, just the contents of the generated prompt \n",
    "            between the XML tags.\n",
    "        * Leverage markdown and prompt engineering best practices to structure the prompt.\n",
    "\n",
    "        ## Examples of responses for generated prompts:\n",
    "        <prompt>\n",
    "        You are a knowledgeable and supportive AI DevOps tutor specializing in automation, observability, and AWS. Your role is to guide a beginner who is currently learning the basics of AWS and aims to achieve the AWS Certified Developer - Associate certification. \n",
    "\n",
    "        Provide practical, hands-on learning experiences and real-world project ideas that align with my learning goals. Break down complex topics into understandable segments and include the following: \n",
    "        \n",
    "        1. **Foundational Concepts**: Explain essential DevOps principles and practices with a focus on automation and observability.\n",
    "        2. **AWS Services**: Introduce relevant AWS services, their use cases, and how they integrate into DevOps workflows.\n",
    "        3. **Real-World Projects**: Suggest projects that help apply theoretical knowledge in practical contexts, actively involving automation and observability.\n",
    "        4. **Study Resources**: Share study materials, tools, and best practices to prepare for the AWS Certified Developer - Associate exam.\n",
    "        5. **Interactive Exercises**: Create exercises that reinforce concepts and give me hands-on experience with AWS and DevOps practices.\n",
    "        \n",
    "        Encourage questions and provide answers constructively, promoting a clear understanding and a smooth learning journey towards certification.\n",
    "        </prompt>\n",
    "        \"\"\")\n",
    "    }\n",
    "]"
   ]
  },
  {
   "cell_type": "code",
   "execution_count": 13,
   "id": "757e20cd-f617-4395-8e46-2402be1bc7d4",
   "metadata": {},
   "outputs": [
    {
     "name": "stdout",
     "output_type": "stream",
     "text": [
      "Starting interactive prompt generation session...\n",
      "Type 'quit' to exit the conversation.\n",
      "\n",
      "AI:  What task would you like me to generate a prompt for?\n",
      "--------------------------------------------------\n",
      "\n"
     ]
    },
    {
     "name": "stdin",
     "output_type": "stream",
     "text": [
      "You:  I want to learn DevOps\n"
     ]
    },
    {
     "name": "stdout",
     "output_type": "stream",
     "text": [
      "AI:  Great! Learning DevOps is an exciting journey. To help create an effective system prompt, I have a few questions to clarify your goals:\n",
      "\n",
      "1. What is your current level of knowledge in software development and operations? Are you a complete beginner, or do you have some experience?\n",
      "2. Are there specific tools or technologies within DevOps that you are particularly interested in (e.g., Docker, Kubernetes, CI/CD tools, cloud services)?\n",
      "3. Do you have any specific goals in mind, such as obtaining certifications or working on certain types of projects?\n",
      "4. How would you prefer to learn (e.g., hands-on projects, theoretical knowledge, interactive exercises)?\n",
      "5. What is your time frame for learning DevOps? \n",
      "\n",
      "With this information, I can create a comprehensive and tailored system prompt for you.\n",
      "--------------------------------------------------\n",
      "\n"
     ]
    },
    {
     "name": "stdin",
     "output_type": "stream",
     "text": [
      "You:  1. What is your current level of knowledge in software development and operations? Are you a complete beginner, or do you have some experience? I'm good at software development, Beginner with DevOps, learning about the basics of AWS. 2. Are there specific tools or technologies within DevOps that you are particularly interested in (e.g., Docker, Kubernetes, CI/CD tools, cloud services)? Automation, observability, AWS. 3. Do you have any specific goals in mind, such as obtaining certifications or working on certain types of projects? I would like to achieve the AWS Certified Developer - Associate certification 4. How would you prefer to learn (e.g., hands-on projects, theoretical knowledge, interactive exercises)? Developing real-world projects and practical, hands-on learning. 5. What is your time frame for learning DevOps? I want to land a job in 6 months.\n"
     ]
    },
    {
     "name": "stdout",
     "output_type": "stream",
     "text": [
      "AI:  Thank you for providing those details! Based on your responses, I've got a clear understanding of your learning objectives and preferences. Here are the key points to include in the system prompt:\n",
      "\n",
      "- Current status: Good at software development, beginner in DevOps, learning AWS basics.\n",
      "- Specific interests: Automation, observability, AWS.\n",
      "- Goals: Achieve AWS Certified Developer - Associate certification and land a job in 6 months.\n",
      "- Preferred learning method: Real-world projects and practical, hands-on learning.\n",
      "\n",
      "Now, I will create a detailed and effective system prompt for your DevOps learning journey. Please confirm if everything is correct or if you'd like to add anything before I proceed. Would you like to make any adjustments?\n",
      "--------------------------------------------------\n",
      "\n"
     ]
    },
    {
     "name": "stdin",
     "output_type": "stream",
     "text": [
      "You:  I'm good, please go ahead\n"
     ]
    },
    {
     "name": "stdout",
     "output_type": "stream",
     "text": [
      "AI:  <prompt>\n",
      "You are an experienced DevOps coach specializing in automation, observability, and AWS technologies. Your role is to guide a software developer who is beginning their DevOps journey and is currently learning the basics of AWS. The learner aims to achieve the AWS Certified Developer - Associate certification and secure a job in DevOps within six months.\n",
      "\n",
      "Focus on providing practical, hands-on learning experiences and real-world project ideas that align with the learner's goals. Break down complex topics into understandable segments and ensure the following components are included:\n",
      "\n",
      "1. **Foundational Concepts**: Explain essential DevOps principles, particularly emphasizing automation and observability, and how they integrate with AWS workflows.\n",
      "2. **AWS Services**: Introduce relevant AWS services, their use cases, and practical applications in a DevOps context.\n",
      "3. **Real-World Projects**: Suggest engaging projects that allow the learner to apply their theoretical knowledge practically, actively involving automation and observability with AWS.\n",
      "4. **Study Resources**: Recommend books, online courses, tools, and best practices to prepare effectively for the AWS Certified Developer - Associate exam.\n",
      "5. **Interactive Exercises**: Design exercises that reinforce concepts and provide the learner with hands-on experience using AWS and DevOps practices.\n",
      "\n",
      "Encourage questions and provide detailed, constructive feedback to facilitate a clear understanding and a successful path towards certification and employment in the DevOps field.\n",
      "</prompt>\n",
      "--------------------------------------------------\n",
      "\n",
      "Final prompt has been generated and stored!\n",
      "============================================================\n",
      "\n",
      "Generated prompt:\n",
      "\n",
      "You are an experienced DevOps coach specializing in automation, observability, and AWS technologies. Your role is to guide a software developer who is beginning their DevOps journey and is currently learning the basics of AWS. The learner aims to achieve the AWS Certified Developer - Associate certification and secure a job in DevOps within six months.\n",
      "\n",
      "Focus on providing practical, hands-on learning experiences and real-world project ideas that align with the learner's goals. Break down complex topics into understandable segments and ensure the following components are included:\n",
      "\n",
      "1. **Foundational Concepts**: Explain essential DevOps principles, particularly emphasizing automation and observability, and how they integrate with AWS workflows.\n",
      "2. **AWS Services**: Introduce relevant AWS services, their use cases, and practical applications in a DevOps context.\n",
      "3. **Real-World Projects**: Suggest engaging projects that allow the learner to apply their theoretical knowledge practically, actively involving automation and observability with AWS.\n",
      "4. **Study Resources**: Recommend books, online courses, tools, and best practices to prepare effectively for the AWS Certified Developer - Associate exam.\n",
      "5. **Interactive Exercises**: Design exercises that reinforce concepts and provide the learner with hands-on experience using AWS and DevOps practices.\n",
      "\n",
      "Encourage questions and provide detailed, constructive feedback to facilitate a clear understanding and a successful path towards certification and employment in the DevOps field.\n"
     ]
    }
   ],
   "source": [
    "conversation_history = master_prompt.copy()\n",
    "generated_prompt = None\n",
    "\n",
    "print(\"Starting interactive prompt generation session...\")\n",
    "print(\"Type 'quit' to exit the conversation.\\n\")\n",
    "\n",
    "initial_response = get_completion(conversation_history)\n",
    "print(\"AI: \", initial_response)\n",
    "print(\"-\" * 50 + \"\\n\")\n",
    "\n",
    "while True:\n",
    "    user_input = input(\"You: \").strip()\n",
    "\n",
    "    if user_input.lower() in [\"quit\", \"exit\", \"stop\"]:\n",
    "        print(\"Ending conversation.\")\n",
    "        break\n",
    "\n",
    "    conversation_history.append({\n",
    "        \"role\": \"user\",\n",
    "        \"content\": user_input\n",
    "    })\n",
    "\n",
    "    ai_response = get_completion(conversation_history)\n",
    "\n",
    "    conversation_history.append({\n",
    "        \"role\": \"assistant\",\n",
    "        \"content\": ai_response\n",
    "    })\n",
    "\n",
    "    print(\"AI: \", ai_response)\n",
    "    print(\"-\" * 50 + \"\\n\")\n",
    "\n",
    "    if \"<prompt>\" in ai_response:\n",
    "        generated_prompt = ai_response.split(\"<prompt>\")[1].rsplit(\"</prompt>\")[0].strip()\n",
    "        print(\"Final prompt has been generated and stored!\")\n",
    "        break\n",
    "\n",
    "if generated_prompt:\n",
    "    print(\"=\" * 60 + \"\\n\")\n",
    "    print(\"Generated prompt:\\n\")\n",
    "    print(generated_prompt)\n",
    "else:\n",
    "    print(\"No final prompt was generated in this session\")"
   ]
  },
  {
   "cell_type": "code",
   "execution_count": null,
   "id": "c2ba5350-92f2-4c9e-b54f-b96f3b367b72",
   "metadata": {},
   "outputs": [],
   "source": []
  }
 ],
 "metadata": {
  "kernelspec": {
   "display_name": "Python 3 (ipykernel)",
   "language": "python",
   "name": "python3"
  },
  "language_info": {
   "codemirror_mode": {
    "name": "ipython",
    "version": 3
   },
   "file_extension": ".py",
   "mimetype": "text/x-python",
   "name": "python",
   "nbconvert_exporter": "python",
   "pygments_lexer": "ipython3",
   "version": "3.13.3"
  }
 },
 "nbformat": 4,
 "nbformat_minor": 5
}
