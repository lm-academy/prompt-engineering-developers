{
 "cells": [
  {
   "cell_type": "markdown",
   "id": "59c894b0-ecaa-400b-a3a8-5f49e4a42b06",
   "metadata": {},
   "source": [
    "# The Self-Correction Pattern - Building a Critique Loop\n",
    "\n",
    "Hello everyone. Today, we'll cover a pattern that leverages the model's reasoning capabilities in a clever way to improve the quality of its own work. This is the **Self-Correction Pattern.**\n",
    "\n",
    "The core idea is inspired by how humans improve their own work: through critique and refinement. We break the process into at least two distinct steps:\n",
    "\n",
    "1. **Generation:** The model produces an initial draft of the solution.\n",
    "2. **Critique & Refinement:** The model takes its own first draft as input, critiques it against a set of criteria, and then generates a superior, improved version."
   ]
  },
  {
   "cell_type": "markdown",
   "id": "b9c199c5-3380-4ca2-a164-afe40f554fc0",
   "metadata": {},
   "source": [
    "## The Task and Helper Functions\n",
    "\n",
    "First, let's set up our standard helper functions."
   ]
  },
  {
   "cell_type": "code",
   "execution_count": null,
   "id": "6e5f6b72-110f-404e-9810-39f5ab5161a3",
   "metadata": {},
   "outputs": [],
   "source": [
    "import litellm\n",
    "from IPython.display import display, Markdown\n",
    "from textwrap import dedent\n",
    "from dotenv import load_dotenv\n",
    "\n",
    "load_dotenv()\n",
    "\n",
    "MODEL_NAME = \"openai/gpt-4o-mini\"\n",
    "MAX_TOKENS_DEFAULT = 500\n",
    "\n",
    "def get_completion(\n",
    "    prompt,\n",
    "    model=MODEL_NAME,\n",
    "    max_tokens=MAX_TOKENS_DEFAULT,\n",
    "    **kwargs\n",
    "):\n",
    "    if \"gpt-5\" in model:\n",
    "        kwargs[\"max_completion_tokens\"] = max_tokens\n",
    "    else:\n",
    "        kwargs[\"max_tokens\"] = max_tokens\n",
    "        \n",
    "    parsed_messages = []\n",
    "\n",
    "    if type(prompt) is str:\n",
    "        parsed_messages = [\n",
    "            {\n",
    "                \"role\": \"user\",\n",
    "                \"content\": prompt\n",
    "            }\n",
    "        ]\n",
    "    else:\n",
    "        parsed_messages = prompt\n",
    "\n",
    "    response = litellm.completion(\n",
    "        model=model,\n",
    "        messages=parsed_messages,\n",
    "        **kwargs\n",
    "    )\n",
    "\n",
    "    return response.choices[0].message.content\n",
    "\n",
    "print(\"Setup complete. Helper functions and code context are ready.\")"
   ]
  },
  {
   "cell_type": "markdown",
   "id": "91b37f7f-b026-4f3e-be06-e04f10996fa4",
   "metadata": {},
   "source": [
    "## The First Draft (Generation)\n",
    "\n",
    "First, we'll use a simple, single-shot prompt to ask for the function."
   ]
  },
  {
   "cell_type": "code",
   "execution_count": null,
   "id": "b44ae173-9fc5-493c-8b17-cd30a1c3572a",
   "metadata": {},
   "outputs": [],
   "source": [
    "prompt_v1 = [\n",
    "    {\n",
    "        \"role\": \"user\",\n",
    "        \"content\": dedent(\"\"\"\n",
    "        Write a Python function named `validate_email` that takes and email string and\n",
    "        returns True if valid, False otherwise. Output only the code.\n",
    "        \"\"\")\n",
    "    }\n",
    "]\n",
    "\n",
    "first_draft_code = get_completion(prompt_v1)"
   ]
  },
  {
   "cell_type": "code",
   "execution_count": null,
   "id": "61a91552-c2b9-4db5-b4b6-9901412825b9",
   "metadata": {},
   "outputs": [],
   "source": [
    "print(first_draft_code)\n",
    "\n",
    "assistant_response_v1 = [\n",
    "    {\n",
    "        \"role\": \"assistant\",\n",
    "        \"content\": first_draft_code\n",
    "    }\n",
    "]"
   ]
  },
  {
   "cell_type": "markdown",
   "id": "b4b59e5e-a000-4005-a095-a18ec31b7dd4",
   "metadata": {},
   "source": [
    "## The Second Draft (Critique & Refinement)\n",
    "\n",
    "Now, we construct our second prompt. This prompt is more sophisticated. It includes the original request **and** the model's first draft. We assign it an \"expert reviewer\" persona and explicitly ask it to critique the draft and then provide an improved version."
   ]
  },
  {
   "cell_type": "code",
   "execution_count": null,
   "id": "fb7d6adf-acfc-44c2-a52e-b8bc1c9cc93d",
   "metadata": {},
   "outputs": [],
   "source": [
    "prompt_refinement = [\n",
    "    {\n",
    "        \"role\": \"user\",\n",
    "        \"content\": dedent(\"\"\"\n",
    "        Given the information and previous exchanges, please perform the following two actions:\n",
    "\n",
    "        1. Critique: Identify specific issues with the proposed solution, considering the solution domain.\n",
    "        2. Refine: Provide an improved version that addresses these issues. Keep it more robust and\n",
    "            production-ready.\n",
    "        \"\"\")\n",
    "    }\n",
    "]"
   ]
  },
  {
   "cell_type": "code",
   "execution_count": null,
   "id": "9cc083dc-97f2-4c93-8b90-a1ac66461f6b",
   "metadata": {},
   "outputs": [],
   "source": [
    "final_conversation = prompt_v1 + assistant_response_v1 + prompt_refinement\n",
    "\n",
    "revised_code = get_completion(final_conversation)"
   ]
  },
  {
   "cell_type": "code",
   "execution_count": null,
   "id": "e1c4507f-b872-4a47-8e93-2479e0e0be99",
   "metadata": {},
   "outputs": [],
   "source": [
    "display(Markdown(revised_code))"
   ]
  },
  {
   "cell_type": "code",
   "execution_count": null,
   "id": "698380fa-2fa9-4b67-826f-b0060c666ace",
   "metadata": {},
   "outputs": [],
   "source": []
  }
 ],
 "metadata": {
  "kernelspec": {
   "display_name": "Python 3 (ipykernel)",
   "language": "python",
   "name": "python3"
  },
  "language_info": {
   "codemirror_mode": {
    "name": "ipython",
    "version": 3
   },
   "file_extension": ".py",
   "mimetype": "text/x-python",
   "name": "python",
   "nbconvert_exporter": "python",
   "pygments_lexer": "ipython3",
   "version": "3.13.3"
  }
 },
 "nbformat": 4,
 "nbformat_minor": 5
}
