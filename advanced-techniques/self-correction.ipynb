{
 "cells": [
  {
   "cell_type": "markdown",
   "id": "59c894b0-ecaa-400b-a3a8-5f49e4a42b06",
   "metadata": {},
   "source": [
    "# The Self-Correction Pattern - Building a Critique Loop\n",
    "\n",
    "Hello everyone. Today, we'll cover a pattern that leverages the model's reasoning capabilities in a clever way to improve the quality of its own work. This is the **Self-Correction Pattern.**\n",
    "\n",
    "The core idea is inspired by how humans improve their own work: through critique and refinement. We break the process into at least two distinct steps:\n",
    "\n",
    "1. **Generation:** The model produces an initial draft of the solution.\n",
    "2. **Critique & Refinement:** The model takes its own first draft as input, critiques it against a set of criteria, and then generates a superior, improved version."
   ]
  },
  {
   "cell_type": "markdown",
   "id": "b9c199c5-3380-4ca2-a164-afe40f554fc0",
   "metadata": {},
   "source": [
    "## The Task and Helper Functions\n",
    "\n",
    "First, let's set up our standard helper functions."
   ]
  },
  {
   "cell_type": "code",
   "execution_count": null,
   "id": "6e5f6b72-110f-404e-9810-39f5ab5161a3",
   "metadata": {},
   "outputs": [],
   "source": [
    "import litellm\n",
    "from IPython.display import display, Markdown\n",
    "from textwrap import dedent\n",
    "from dotenv import load_dotenv\n",
    "\n",
    "load_dotenv()\n",
    "\n",
    "MODEL_NAME = \"openai/gpt-4o-mini\"\n",
    "MAX_TOKENS_DEFAULT = 500\n",
    "\n",
    "def get_completion(\n",
    "    prompt,\n",
    "    model=MODEL_NAME,\n",
    "    max_tokens=MAX_TOKENS_DEFAULT,\n",
    "    **kwargs\n",
    "):\n",
    "    if \"gpt-5\" in model:\n",
    "        kwargs[\"max_completion_tokens\"] = max_tokens\n",
    "    else:\n",
    "        kwargs[\"max_tokens\"] = max_tokens\n",
    "        \n",
    "    parsed_messages = []\n",
    "\n",
    "    if type(prompt) is str:\n",
    "        parsed_messages = [\n",
    "            {\n",
    "                \"role\": \"user\",\n",
    "                \"content\": prompt\n",
    "            }\n",
    "        ]\n",
    "    else:\n",
    "        parsed_messages = prompt\n",
    "\n",
    "    response = litellm.completion(\n",
    "        model=model,\n",
    "        messages=parsed_messages,\n",
    "        **kwargs\n",
    "    )\n",
    "\n",
    "    return response.choices[0].message.content\n",
    "\n",
    "print(\"Setup complete. Helper functions and code context are ready.\")"
   ]
  },
  {
   "cell_type": "markdown",
   "id": "91b37f7f-b026-4f3e-be06-e04f10996fa4",
   "metadata": {},
   "source": [
    "## The First Draft (Generation)\n",
    "\n",
    "First, we'll use a simple, single-shot prompt to ask for the function."
   ]
  },
  {
   "cell_type": "code",
   "execution_count": null,
   "id": "b44ae173-9fc5-493c-8b17-cd30a1c3572a",
   "metadata": {},
   "outputs": [],
   "source": []
  },
  {
   "cell_type": "code",
   "execution_count": null,
   "id": "61a91552-c2b9-4db5-b4b6-9901412825b9",
   "metadata": {},
   "outputs": [],
   "source": []
  },
  {
   "cell_type": "markdown",
   "id": "b4b59e5e-a000-4005-a095-a18ec31b7dd4",
   "metadata": {},
   "source": [
    "## The Second Draft (Critique & Refinement)\n",
    "\n",
    "Now, we construct our second prompt. This prompt is more sophisticated. It includes the original request **and** the model's first draft. We assign it an \"expert reviewer\" persona and explicitly ask it to critique the draft and then provide an improved version."
   ]
  },
  {
   "cell_type": "code",
   "execution_count": null,
   "id": "fb7d6adf-acfc-44c2-a52e-b8bc1c9cc93d",
   "metadata": {},
   "outputs": [],
   "source": []
  },
  {
   "cell_type": "code",
   "execution_count": null,
   "id": "698380fa-2fa9-4b67-826f-b0060c666ace",
   "metadata": {},
   "outputs": [],
   "source": []
  }
 ],
 "metadata": {
  "kernelspec": {
   "display_name": "Python 3 (ipykernel)",
   "language": "python",
   "name": "python3"
  },
  "language_info": {
   "codemirror_mode": {
    "name": "ipython",
    "version": 3
   },
   "file_extension": ".py",
   "mimetype": "text/x-python",
   "name": "python",
   "nbconvert_exporter": "python",
   "pygments_lexer": "ipython3",
   "version": "3.13.3"
  }
 },
 "nbformat": 4,
 "nbformat_minor": 5
}
